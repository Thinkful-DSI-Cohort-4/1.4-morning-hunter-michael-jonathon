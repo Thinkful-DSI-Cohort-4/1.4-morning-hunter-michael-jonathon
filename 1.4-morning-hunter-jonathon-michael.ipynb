{
 "cells": [
  {
   "cell_type": "markdown",
   "metadata": {},
   "source": [
    "# 1.4 Morning Pair Programming\n",
    "Hunter, Jonathon, Michael"
   ]
  },
  {
   "cell_type": "markdown",
   "metadata": {},
   "source": [
    "* Create a population distribution (not a normal one) with a very large n (think 5-7 figures).\n",
    "* Make several samples from the population of different sizes.\n",
    "* Compare the mean of the population to the mean of each sample.\n",
    "* Create one sample that is 10% of the population.\n",
    "* Subsample that sample many times, taking the mean of each subsample.\n",
    "* Look for the normal distribution of the means.\n",
    "* Compare the mean of that distribution to the population mean."
   ]
  },
  {
   "cell_type": "code",
   "execution_count": 1,
   "metadata": {},
   "outputs": [],
   "source": [
    "# Set up environment\n",
    "import numpy as np\n",
    "import pandas as pd\n",
    "import matplotlib.pyplot as plt\n",
    "import scipy.stats as stats"
   ]
  },
  {
   "cell_type": "code",
   "execution_count": 2,
   "metadata": {},
   "outputs": [],
   "source": [
    "# Create a population distribution with a very large n\n",
    "n = 1000000\n",
    "\n",
    "population = np.random.binomial(10, 0.05, n)"
   ]
  },
  {
   "cell_type": "code",
   "execution_count": 3,
   "metadata": {},
   "outputs": [],
   "source": [
    "# Make several samples from the population of different sizes\n",
    "\n",
    "sample1 = np.random.choice(population, 2000)\n",
    "sample2 = np.random.choice(population, 500000)\n",
    "sample3 = np.random.choice(population, 50)\n",
    "sample4 = np.random.choice(population, 400)"
   ]
  },
  {
   "cell_type": "code",
   "execution_count": 4,
   "metadata": {},
   "outputs": [
    {
     "name": "stdout",
     "output_type": "stream",
     "text": [
      "Population mean: 0.498639\n",
      "Sample 1 mean: 0.502\n",
      "Sample 2 mean: 0.499096\n",
      "Sample 3 mean: 0.56\n",
      "Sample 4 mean: 0.5325\n"
     ]
    }
   ],
   "source": [
    "# Compare the mean of the population to the mean of each sample\n",
    "\n",
    "print(\"Population mean: \" + str(population.mean()))\n",
    "print(\"Sample 1 mean: \" + str(sample1.mean()))\n",
    "print(\"Sample 2 mean: \" + str(sample2.mean()))\n",
    "print(\"Sample 3 mean: \" + str(sample3.mean()))\n",
    "print(\"Sample 4 mean: \" + str(sample4.mean()))"
   ]
  },
  {
   "cell_type": "code",
   "execution_count": 5,
   "metadata": {},
   "outputs": [],
   "source": [
    "# Create one sample that is 10% of the population\n",
    "\n",
    "ten_percent = np.random.choice(population, 100000)"
   ]
  },
  {
   "cell_type": "code",
   "execution_count": 6,
   "metadata": {},
   "outputs": [
    {
     "name": "stdout",
     "output_type": "stream",
     "text": [
      "Sample mean: 0.50038\n",
      "Subsample 1 mean: 0.52\n",
      "Subsample 2 mean: 0.493\n",
      "Subsample 3 mean: 0.2\n",
      "Subsample 4 mean: 0.6\n"
     ]
    }
   ],
   "source": [
    "# Subsample that sample many times, taking the mean of each subsample\n",
    "\n",
    "new_sample1 = np.random.choice(ten_percent, 200)\n",
    "new_sample2 = np.random.choice(ten_percent, 5000)\n",
    "new_sample3 = np.random.choice(ten_percent, 5)\n",
    "new_sample4 = np.random.choice(ten_percent, 40)\n",
    "\n",
    "print(\"Sample mean: \" + str(ten_percent.mean()))\n",
    "print(\"Subsample 1 mean: \" + str(new_sample1.mean()))\n",
    "print(\"Subsample 2 mean: \" + str(new_sample2.mean()))\n",
    "print(\"Subsample 3 mean: \" + str(new_sample3.mean()))\n",
    "print(\"Subsample 4 mean: \" + str(new_sample4.mean()))"
   ]
  },
  {
   "cell_type": "code",
   "execution_count": 7,
   "metadata": {},
   "outputs": [
    {
     "data": {
      "image/png": "[encoded data removed]",
      "text/plain": [
       "<Figure size 432x288 with 1 Axes>"
      ]
     },
     "metadata": {
      "needs_background": "light"
     },
     "output_type": "display_data"
    }
   ],
   "source": [
    "# Look for the normal distribution of the means\n",
    "trials = []\n",
    "count = 100\n",
    "for trial in range(1,100):\n",
    "    subsample = np.random.choice(ten_percent, 1000)\n",
    "    sampled_mean = subsample.mean()\n",
    "    trials.append(sampled_mean)\n",
    "    \n",
    "plt.hist(trials)\n",
    "plt.show()"
   ]
  },
  {
   "cell_type": "code",
   "execution_count": 8,
   "metadata": {},
   "outputs": [
    {
     "name": "stdout",
     "output_type": "stream",
     "text": [
      "The mean of the distribution of sampled means: 0.5016262626262629\n",
      "The mean of the entire population: 0.498639\n"
     ]
    }
   ],
   "source": [
    "# Compare the mean of that distribution to the population mean\n",
    "trials_data = pd.DataFrame(trials)\n",
    "\n",
    "print(\"The mean of the distribution of sampled means: \" + str(trials_data[0].mean()))\n",
    "print(\"The mean of the entire population: \" + str(population.mean()))"
   ]
  }
 ],
 "metadata": {
  "kernelspec": {
   "display_name": "Python 3",
   "language": "python",
   "name": "python3"
  },
  "language_info": {
   "codemirror_mode": {
    "name": "ipython",
    "version": 3
   },
   "file_extension": ".py",
   "mimetype": "text/x-python",
   "name": "python",
   "nbconvert_exporter": "python",
   "pygments_lexer": "ipython3",
   "version": "3.7.4"
  }
 },
 "nbformat": 4,
 "nbformat_minor": 1
}
